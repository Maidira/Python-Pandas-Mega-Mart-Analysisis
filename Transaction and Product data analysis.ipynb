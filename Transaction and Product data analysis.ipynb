{
 "cells": [
  {
   "cell_type": "markdown",
   "id": "133336f6",
   "metadata": {},
   "source": [
    "## TRANSATION AND PRODUCT DATA ANALYSIS"
   ]
  },
  {
   "cell_type": "markdown",
   "id": "afd113ab",
   "metadata": {},
   "source": [
    "* Checking data types, and cast DAY, QUANTITY, STORE_ID, and WEEK_NO columns to the smallest appropiate datatypes.\n",
    "* Check or missing data.\n",
    "* How many unique households and products are there in the data? "
   ]
  },
  {
   "cell_type": "code",
   "execution_count": 1,
   "id": "e593c8df",
   "metadata": {},
   "outputs": [],
   "source": [
    "import pandas as pd\n",
    "import numpy as np"
   ]
  },
  {
   "cell_type": "code",
   "execution_count": 2,
   "id": "62216665",
   "metadata": {},
   "outputs": [],
   "source": [
    "transactions = pd.read_csv(\"........../project_transactions.csv\")"
   ]
  },
  {
   "cell_type": "code",
   "execution_count": 3,
   "id": "9c1e4e70",
   "metadata": {
    "scrolled": true
   },
   "outputs": [
    {
     "data": {
      "text/html": [
       "<div>\n",
       "<style scoped>\n",
       "    .dataframe tbody tr th:only-of-type {\n",
       "        vertical-align: middle;\n",
       "    }\n",
       "\n",
       "    .dataframe tbody tr th {\n",
       "        vertical-align: top;\n",
       "    }\n",
       "\n",
       "    .dataframe thead th {\n",
       "        text-align: right;\n",
       "    }\n",
       "</style>\n",
       "<table border=\"1\" class=\"dataframe\">\n",
       "  <thead>\n",
       "    <tr style=\"text-align: right;\">\n",
       "      <th></th>\n",
       "      <th>household_key</th>\n",
       "      <th>BASKET_ID</th>\n",
       "      <th>DAY</th>\n",
       "      <th>PRODUCT_ID</th>\n",
       "      <th>QUANTITY</th>\n",
       "      <th>SALES_VALUE</th>\n",
       "      <th>STORE_ID</th>\n",
       "      <th>RETAIL_DISC</th>\n",
       "      <th>WEEK_NO</th>\n",
       "      <th>COUPON_DISC</th>\n",
       "      <th>COUPON_MATCH_DISC</th>\n",
       "    </tr>\n",
       "  </thead>\n",
       "  <tbody>\n",
       "    <tr>\n",
       "      <th>0</th>\n",
       "      <td>1364</td>\n",
       "      <td>26984896261</td>\n",
       "      <td>1</td>\n",
       "      <td>842930</td>\n",
       "      <td>1</td>\n",
       "      <td>2.19</td>\n",
       "      <td>31742</td>\n",
       "      <td>0.00</td>\n",
       "      <td>1</td>\n",
       "      <td>0.0</td>\n",
       "      <td>0.0</td>\n",
       "    </tr>\n",
       "    <tr>\n",
       "      <th>1</th>\n",
       "      <td>1364</td>\n",
       "      <td>26984896261</td>\n",
       "      <td>1</td>\n",
       "      <td>897044</td>\n",
       "      <td>1</td>\n",
       "      <td>2.99</td>\n",
       "      <td>31742</td>\n",
       "      <td>-0.40</td>\n",
       "      <td>1</td>\n",
       "      <td>0.0</td>\n",
       "      <td>0.0</td>\n",
       "    </tr>\n",
       "    <tr>\n",
       "      <th>2</th>\n",
       "      <td>1364</td>\n",
       "      <td>26984896261</td>\n",
       "      <td>1</td>\n",
       "      <td>920955</td>\n",
       "      <td>1</td>\n",
       "      <td>3.09</td>\n",
       "      <td>31742</td>\n",
       "      <td>0.00</td>\n",
       "      <td>1</td>\n",
       "      <td>0.0</td>\n",
       "      <td>0.0</td>\n",
       "    </tr>\n",
       "    <tr>\n",
       "      <th>3</th>\n",
       "      <td>1364</td>\n",
       "      <td>26984896261</td>\n",
       "      <td>1</td>\n",
       "      <td>937406</td>\n",
       "      <td>1</td>\n",
       "      <td>2.50</td>\n",
       "      <td>31742</td>\n",
       "      <td>-0.99</td>\n",
       "      <td>1</td>\n",
       "      <td>0.0</td>\n",
       "      <td>0.0</td>\n",
       "    </tr>\n",
       "    <tr>\n",
       "      <th>4</th>\n",
       "      <td>1364</td>\n",
       "      <td>26984896261</td>\n",
       "      <td>1</td>\n",
       "      <td>981760</td>\n",
       "      <td>1</td>\n",
       "      <td>0.60</td>\n",
       "      <td>31742</td>\n",
       "      <td>-0.79</td>\n",
       "      <td>1</td>\n",
       "      <td>0.0</td>\n",
       "      <td>0.0</td>\n",
       "    </tr>\n",
       "  </tbody>\n",
       "</table>\n",
       "</div>"
      ],
      "text/plain": [
       "   household_key    BASKET_ID  DAY  PRODUCT_ID  QUANTITY  SALES_VALUE  \\\n",
       "0           1364  26984896261    1      842930         1         2.19   \n",
       "1           1364  26984896261    1      897044         1         2.99   \n",
       "2           1364  26984896261    1      920955         1         3.09   \n",
       "3           1364  26984896261    1      937406         1         2.50   \n",
       "4           1364  26984896261    1      981760         1         0.60   \n",
       "\n",
       "   STORE_ID  RETAIL_DISC  WEEK_NO  COUPON_DISC  COUPON_MATCH_DISC  \n",
       "0     31742         0.00        1          0.0                0.0  \n",
       "1     31742        -0.40        1          0.0                0.0  \n",
       "2     31742         0.00        1          0.0                0.0  \n",
       "3     31742        -0.99        1          0.0                0.0  \n",
       "4     31742        -0.79        1          0.0                0.0  "
      ]
     },
     "execution_count": 3,
     "metadata": {},
     "output_type": "execute_result"
    }
   ],
   "source": [
    "transactions.head()"
   ]
  },
  {
   "cell_type": "code",
   "execution_count": 4,
   "id": "7ed2318f",
   "metadata": {},
   "outputs": [
    {
     "name": "stdout",
     "output_type": "stream",
     "text": [
      "<class 'pandas.core.frame.DataFrame'>\n",
      "RangeIndex: 2146311 entries, 0 to 2146310\n",
      "Data columns (total 11 columns):\n",
      " #   Column             Dtype  \n",
      "---  ------             -----  \n",
      " 0   household_key      int64  \n",
      " 1   BASKET_ID          int64  \n",
      " 2   DAY                int64  \n",
      " 3   PRODUCT_ID         int64  \n",
      " 4   QUANTITY           int64  \n",
      " 5   SALES_VALUE        float64\n",
      " 6   STORE_ID           int64  \n",
      " 7   RETAIL_DISC        float64\n",
      " 8   WEEK_NO            int64  \n",
      " 9   COUPON_DISC        float64\n",
      " 10  COUPON_MATCH_DISC  float64\n",
      "dtypes: float64(4), int64(7)\n",
      "memory usage: 180.1 MB\n"
     ]
    }
   ],
   "source": [
    "transactions.info(memory_usage = \"deep\")"
   ]
  },
  {
   "cell_type": "code",
   "execution_count": 5,
   "id": "0befddc5",
   "metadata": {},
   "outputs": [],
   "source": [
    "# Reduced memory usage by 33MB after converting to correct datatypes\n",
    "transactions = pd.DataFrame(transactions).astype({\n",
    "    'DAY': 'Int16',\n",
    "    'QUANTITY': 'Int32',\n",
    "    'STORE_ID': 'Int32',\n",
    "    'WEEK_NO': 'Int16'\n",
    "})"
   ]
  },
  {
   "cell_type": "code",
   "execution_count": 6,
   "id": "d75eb48e",
   "metadata": {},
   "outputs": [
    {
     "name": "stdout",
     "output_type": "stream",
     "text": [
      "<class 'pandas.core.frame.DataFrame'>\n",
      "RangeIndex: 2146311 entries, 0 to 2146310\n",
      "Data columns (total 11 columns):\n",
      " #   Column             Dtype  \n",
      "---  ------             -----  \n",
      " 0   household_key      int64  \n",
      " 1   BASKET_ID          int64  \n",
      " 2   DAY                Int16  \n",
      " 3   PRODUCT_ID         int64  \n",
      " 4   QUANTITY           Int32  \n",
      " 5   SALES_VALUE        float64\n",
      " 6   STORE_ID           Int32  \n",
      " 7   RETAIL_DISC        float64\n",
      " 8   WEEK_NO            Int16  \n",
      " 9   COUPON_DISC        float64\n",
      " 10  COUPON_MATCH_DISC  float64\n",
      "dtypes: Int16(2), Int32(2), float64(4), int64(3)\n",
      "memory usage: 147.4 MB\n"
     ]
    }
   ],
   "source": [
    "transactions.info(memory_usage = \"deep\")"
   ]
  },
  {
   "cell_type": "code",
   "execution_count": 7,
   "id": "8d05cb4a",
   "metadata": {},
   "outputs": [
    {
     "data": {
      "text/plain": [
       "household_key        0\n",
       "BASKET_ID            0\n",
       "DAY                  0\n",
       "PRODUCT_ID           0\n",
       "QUANTITY             0\n",
       "SALES_VALUE          0\n",
       "STORE_ID             0\n",
       "RETAIL_DISC          0\n",
       "WEEK_NO              0\n",
       "COUPON_DISC          0\n",
       "COUPON_MATCH_DISC    0\n",
       "dtype: int64"
      ]
     },
     "execution_count": 7,
     "metadata": {},
     "output_type": "execute_result"
    }
   ],
   "source": [
    "# Checking missing value counts\n",
    "transactions.isna().sum()"
   ]
  },
  {
   "cell_type": "code",
   "execution_count": 8,
   "id": "a59624e3",
   "metadata": {},
   "outputs": [
    {
     "data": {
      "text/plain": [
       "household_key     2099\n",
       "PRODUCT_ID       84138\n",
       "dtype: int64"
      ]
     },
     "execution_count": 8,
     "metadata": {},
     "output_type": "execute_result"
    }
   ],
   "source": [
    "# Checking unique households and products\n",
    "transactions[[\"household_key\", \"PRODUCT_ID\"]].nunique()"
   ]
  },
  {
   "cell_type": "markdown",
   "id": "3e3b4091",
   "metadata": {},
   "source": [
    "### Column Creation\n",
    "* Capture the total discount by row\n",
    "* Percentage discount\n",
    "* If percentage discount is greater than 1, set to 1. If it is less than 1 set it to 0.\n",
    "* Drop individual discount column"
   ]
  },
  {
   "cell_type": "code",
   "execution_count": 9,
   "id": "b33d59aa",
   "metadata": {},
   "outputs": [],
   "source": [
    "# Total discount\n",
    "transactions[\"total_discount\"] = transactions[\"RETAIL_DISC\"] + transactions[\"COUPON_DISC\"]"
   ]
  },
  {
   "cell_type": "code",
   "execution_count": 10,
   "id": "3b2796d8",
   "metadata": {},
   "outputs": [],
   "source": [
    "# Discount percentage\n",
    "transactions[\"percentage_discount\"] = (transactions[\"total_discount\"]/transactions[\"SALES_VALUE\"]).abs()"
   ]
  },
  {
   "cell_type": "code",
   "execution_count": 11,
   "id": "789c1f1f",
   "metadata": {},
   "outputs": [],
   "source": [
    "# If percentage discount is greater than 1, set to 1. If it is less than 1 set it to 0.\n",
    "transactions[\"percentage_discount\"] = (\n",
    "    transactions[\"percentage_discount\"]\n",
    "    .where(transactions[\"percentage_discount\"] < 1, 1.0)\n",
    "    .where(transactions[\"percentage_discount\"] > 0, 0)\n",
    ")"
   ]
  },
  {
   "cell_type": "code",
   "execution_count": 12,
   "id": "1c8bafa1",
   "metadata": {},
   "outputs": [],
   "source": [
    "transactions = transactions.drop([\"RETAIL_DISC\", \"COUPON_DISC\", \"COUPON_MATCH_DISC\"], axis=1)"
   ]
  },
  {
   "cell_type": "code",
   "execution_count": 13,
   "id": "861b3443",
   "metadata": {},
   "outputs": [
    {
     "data": {
      "text/html": [
       "<div>\n",
       "<style scoped>\n",
       "    .dataframe tbody tr th:only-of-type {\n",
       "        vertical-align: middle;\n",
       "    }\n",
       "\n",
       "    .dataframe tbody tr th {\n",
       "        vertical-align: top;\n",
       "    }\n",
       "\n",
       "    .dataframe thead th {\n",
       "        text-align: right;\n",
       "    }\n",
       "</style>\n",
       "<table border=\"1\" class=\"dataframe\">\n",
       "  <thead>\n",
       "    <tr style=\"text-align: right;\">\n",
       "      <th></th>\n",
       "      <th>household_key</th>\n",
       "      <th>BASKET_ID</th>\n",
       "      <th>DAY</th>\n",
       "      <th>PRODUCT_ID</th>\n",
       "      <th>QUANTITY</th>\n",
       "      <th>SALES_VALUE</th>\n",
       "      <th>STORE_ID</th>\n",
       "      <th>WEEK_NO</th>\n",
       "      <th>total_discount</th>\n",
       "      <th>percentage_discount</th>\n",
       "    </tr>\n",
       "  </thead>\n",
       "  <tbody>\n",
       "    <tr>\n",
       "      <th>0</th>\n",
       "      <td>1364</td>\n",
       "      <td>26984896261</td>\n",
       "      <td>1</td>\n",
       "      <td>842930</td>\n",
       "      <td>1</td>\n",
       "      <td>2.19</td>\n",
       "      <td>31742</td>\n",
       "      <td>1</td>\n",
       "      <td>0.00</td>\n",
       "      <td>0.000000</td>\n",
       "    </tr>\n",
       "    <tr>\n",
       "      <th>1</th>\n",
       "      <td>1364</td>\n",
       "      <td>26984896261</td>\n",
       "      <td>1</td>\n",
       "      <td>897044</td>\n",
       "      <td>1</td>\n",
       "      <td>2.99</td>\n",
       "      <td>31742</td>\n",
       "      <td>1</td>\n",
       "      <td>-0.40</td>\n",
       "      <td>0.133779</td>\n",
       "    </tr>\n",
       "    <tr>\n",
       "      <th>2</th>\n",
       "      <td>1364</td>\n",
       "      <td>26984896261</td>\n",
       "      <td>1</td>\n",
       "      <td>920955</td>\n",
       "      <td>1</td>\n",
       "      <td>3.09</td>\n",
       "      <td>31742</td>\n",
       "      <td>1</td>\n",
       "      <td>0.00</td>\n",
       "      <td>0.000000</td>\n",
       "    </tr>\n",
       "    <tr>\n",
       "      <th>3</th>\n",
       "      <td>1364</td>\n",
       "      <td>26984896261</td>\n",
       "      <td>1</td>\n",
       "      <td>937406</td>\n",
       "      <td>1</td>\n",
       "      <td>2.50</td>\n",
       "      <td>31742</td>\n",
       "      <td>1</td>\n",
       "      <td>-0.99</td>\n",
       "      <td>0.396000</td>\n",
       "    </tr>\n",
       "    <tr>\n",
       "      <th>4</th>\n",
       "      <td>1364</td>\n",
       "      <td>26984896261</td>\n",
       "      <td>1</td>\n",
       "      <td>981760</td>\n",
       "      <td>1</td>\n",
       "      <td>0.60</td>\n",
       "      <td>31742</td>\n",
       "      <td>1</td>\n",
       "      <td>-0.79</td>\n",
       "      <td>1.000000</td>\n",
       "    </tr>\n",
       "  </tbody>\n",
       "</table>\n",
       "</div>"
      ],
      "text/plain": [
       "   household_key    BASKET_ID  DAY  PRODUCT_ID  QUANTITY  SALES_VALUE  \\\n",
       "0           1364  26984896261    1      842930         1         2.19   \n",
       "1           1364  26984896261    1      897044         1         2.99   \n",
       "2           1364  26984896261    1      920955         1         3.09   \n",
       "3           1364  26984896261    1      937406         1         2.50   \n",
       "4           1364  26984896261    1      981760         1         0.60   \n",
       "\n",
       "   STORE_ID  WEEK_NO  total_discount  percentage_discount  \n",
       "0     31742        1            0.00             0.000000  \n",
       "1     31742        1           -0.40             0.133779  \n",
       "2     31742        1            0.00             0.000000  \n",
       "3     31742        1           -0.99             0.396000  \n",
       "4     31742        1           -0.79             1.000000  "
      ]
     },
     "execution_count": 13,
     "metadata": {},
     "output_type": "execute_result"
    }
   ],
   "source": [
    "transactions.head()"
   ]
  },
  {
   "cell_type": "markdown",
   "id": "cb87f758",
   "metadata": {},
   "source": [
    "### Statistical analysis\n",
    "* Calculate total sales\n",
    "* Calculate total discount\n",
    "* Overall oercentage discount\n",
    "* Total quantity sold\n",
    "* Max quantity sold and does this have high discount percentage\n",
    "* Total sales value per basket\n",
    "* Total sales value per household\n",
    "* Highest quantity sold for a single item in a single row"
   ]
  },
  {
   "cell_type": "code",
   "execution_count": 14,
   "id": "d7016deb",
   "metadata": {},
   "outputs": [
    {
     "data": {
      "text/plain": [
       "6666243.499999999"
      ]
     },
     "execution_count": 14,
     "metadata": {},
     "output_type": "execute_result"
    }
   ],
   "source": [
    "# Total Sales\n",
    "transactions[\"SALES_VALUE\"].sum()"
   ]
  },
  {
   "cell_type": "code",
   "execution_count": 15,
   "id": "29145c64",
   "metadata": {},
   "outputs": [
    {
     "data": {
      "text/plain": [
       "-1178658.0799999998"
      ]
     },
     "execution_count": 15,
     "metadata": {},
     "output_type": "execute_result"
    }
   ],
   "source": [
    "# Total discount\n",
    "transactions[\"total_discount\"].sum()"
   ]
  },
  {
   "cell_type": "code",
   "execution_count": 16,
   "id": "c450fdf2",
   "metadata": {},
   "outputs": [
    {
     "data": {
      "text/plain": [
       "-0.1768099350106248"
      ]
     },
     "execution_count": 16,
     "metadata": {},
     "output_type": "execute_result"
    }
   ],
   "source": [
    "# Overall percentage discount\n",
    "transactions[\"total_discount\"].sum()/transactions[\"SALES_VALUE\"].sum()"
   ]
  },
  {
   "cell_type": "code",
   "execution_count": 17,
   "id": "215f80f8",
   "metadata": {},
   "outputs": [
    {
     "data": {
      "text/plain": [
       "0.20732444073964212"
      ]
     },
     "execution_count": 17,
     "metadata": {},
     "output_type": "execute_result"
    }
   ],
   "source": [
    "# Average percentage discount\n",
    "transactions[\"percentage_discount\"].mean()"
   ]
  },
  {
   "cell_type": "code",
   "execution_count": 18,
   "id": "b726e5f8",
   "metadata": {},
   "outputs": [
    {
     "data": {
      "text/plain": [
       "216713611"
      ]
     },
     "execution_count": 18,
     "metadata": {},
     "output_type": "execute_result"
    }
   ],
   "source": [
    "# Total Quantity sold\n",
    "transactions[\"QUANTITY\"].sum()"
   ]
  },
  {
   "cell_type": "code",
   "execution_count": 19,
   "id": "b07bf419",
   "metadata": {},
   "outputs": [
    {
     "data": {
      "text/plain": [
       "89638"
      ]
     },
     "execution_count": 19,
     "metadata": {},
     "output_type": "execute_result"
    }
   ],
   "source": [
    "# Max quantity sold in a row\n",
    "transactions[\"QUANTITY\"].max()"
   ]
  },
  {
   "cell_type": "code",
   "execution_count": 20,
   "id": "8a81c998",
   "metadata": {},
   "outputs": [
    {
     "data": {
      "text/plain": [
       "household_key                  630.0\n",
       "BASKET_ID              34749153595.0\n",
       "DAY                            503.0\n",
       "PRODUCT_ID                 6534178.0\n",
       "QUANTITY                     89638.0\n",
       "SALES_VALUE                    250.0\n",
       "STORE_ID                       384.0\n",
       "WEEK_NO                         73.0\n",
       "total_discount                -13.45\n",
       "percentage_discount           0.0538\n",
       "Name: 1442095, dtype: Float64"
      ]
     },
     "execution_count": 20,
     "metadata": {},
     "output_type": "execute_result"
    }
   ],
   "source": [
    "transactions.loc[transactions[\"QUANTITY\"].argmax()]"
   ]
  },
  {
   "cell_type": "code",
   "execution_count": 21,
   "id": "777356ce",
   "metadata": {},
   "outputs": [
    {
     "data": {
      "text/plain": [
       "28.61797938516092"
      ]
     },
     "execution_count": 21,
     "metadata": {},
     "output_type": "execute_result"
    }
   ],
   "source": [
    "# Sales value per basket\n",
    "transactions[\"SALES_VALUE\"].sum()/transactions[\"BASKET_ID\"].nunique()"
   ]
  },
  {
   "cell_type": "code",
   "execution_count": 22,
   "id": "125b22d6",
   "metadata": {},
   "outputs": [
    {
     "data": {
      "text/plain": [
       "3175.9140066698424"
      ]
     },
     "execution_count": 22,
     "metadata": {},
     "output_type": "execute_result"
    }
   ],
   "source": [
    "# Sales value per households\n",
    "transactions[\"SALES_VALUE\"].sum()/transactions[\"household_key\"].nunique()"
   ]
  },
  {
   "cell_type": "markdown",
   "id": "c3d3ffa4",
   "metadata": {},
   "source": [
    "### Household analysis\n",
    "* Plot distribution of total sales value purcahsed at the household level\n",
    "* What are the top 10 households by quantity purchased?\n",
    "* What are the top 10 households by sales value?\n",
    "* Plot total sales value for top 10 households by value"
   ]
  },
  {
   "cell_type": "code",
   "execution_count": 23,
   "id": "8a091337",
   "metadata": {},
   "outputs": [
    {
     "data": {
      "text/plain": [
       "<AxesSubplot:ylabel='Frequency'>"
      ]
     },
     "execution_count": 23,
     "metadata": {},
     "output_type": "execute_result"
    },
    {
     "data": {
      "image/png": "[encoded data removed]",
      "text/plain": [
       "<Figure size 432x288 with 1 Axes>"
      ]
     },
     "metadata": {
      "needs_background": "light"
     },
     "output_type": "display_data"
    }
   ],
   "source": [
    "# Plot distribution of total sales value purcahsed at the household level\n",
    "transactions.groupby(\"household_key\").agg({\"SALES_VALUE\":\"sum\"}).plot.hist()"
   ]
  },
  {
   "cell_type": "code",
   "execution_count": 27,
   "id": "b93a440c",
   "metadata": {},
   "outputs": [],
   "source": [
    "# Top 10 households by value purchased\n",
    "top10_value = transactions.groupby(\"household_key\").agg({\"SALES_VALUE\":\"sum\"}).sort_values(\"SALES_VALUE\", ascending=False).iloc[:10]"
   ]
  },
  {
   "cell_type": "code",
   "execution_count": 28,
   "id": "30f1b4ce",
   "metadata": {},
   "outputs": [],
   "source": [
    "# Top 10 households by quantity purchased\n",
    "top10_quantity = transactions.groupby(\"household_key\").agg({\"QUANTITY\":\"sum\"}).sort_values(\"QUANTITY\", ascending=False).iloc[:10]"
   ]
  },
  {
   "cell_type": "code",
   "execution_count": 29,
   "id": "ea9ca29e",
   "metadata": {},
   "outputs": [
    {
     "data": {
      "text/html": [
       "<div>\n",
       "<style scoped>\n",
       "    .dataframe tbody tr th:only-of-type {\n",
       "        vertical-align: middle;\n",
       "    }\n",
       "\n",
       "    .dataframe tbody tr th {\n",
       "        vertical-align: top;\n",
       "    }\n",
       "\n",
       "    .dataframe thead th {\n",
       "        text-align: right;\n",
       "    }\n",
       "</style>\n",
       "<table border=\"1\" class=\"dataframe\">\n",
       "  <thead>\n",
       "    <tr style=\"text-align: right;\">\n",
       "      <th></th>\n",
       "      <th>SALES_VALUE</th>\n",
       "    </tr>\n",
       "    <tr>\n",
       "      <th>household_key</th>\n",
       "      <th></th>\n",
       "    </tr>\n",
       "  </thead>\n",
       "  <tbody>\n",
       "    <tr>\n",
       "      <th>1023</th>\n",
       "      <td>38319.79</td>\n",
       "    </tr>\n",
       "    <tr>\n",
       "      <th>1609</th>\n",
       "      <td>27859.68</td>\n",
       "    </tr>\n",
       "    <tr>\n",
       "      <th>1453</th>\n",
       "      <td>21661.29</td>\n",
       "    </tr>\n",
       "    <tr>\n",
       "      <th>1430</th>\n",
       "      <td>20352.99</td>\n",
       "    </tr>\n",
       "    <tr>\n",
       "      <th>718</th>\n",
       "      <td>19299.86</td>\n",
       "    </tr>\n",
       "    <tr>\n",
       "      <th>707</th>\n",
       "      <td>19194.42</td>\n",
       "    </tr>\n",
       "    <tr>\n",
       "      <th>1653</th>\n",
       "      <td>19153.75</td>\n",
       "    </tr>\n",
       "    <tr>\n",
       "      <th>1111</th>\n",
       "      <td>18894.72</td>\n",
       "    </tr>\n",
       "    <tr>\n",
       "      <th>982</th>\n",
       "      <td>18790.34</td>\n",
       "    </tr>\n",
       "    <tr>\n",
       "      <th>400</th>\n",
       "      <td>18494.14</td>\n",
       "    </tr>\n",
       "  </tbody>\n",
       "</table>\n",
       "</div>"
      ],
      "text/plain": [
       "               SALES_VALUE\n",
       "household_key             \n",
       "1023              38319.79\n",
       "1609              27859.68\n",
       "1453              21661.29\n",
       "1430              20352.99\n",
       "718               19299.86\n",
       "707               19194.42\n",
       "1653              19153.75\n",
       "1111              18894.72\n",
       "982               18790.34\n",
       "400               18494.14"
      ]
     },
     "execution_count": 29,
     "metadata": {},
     "output_type": "execute_result"
    }
   ],
   "source": [
    "top10_value"
   ]
  },
  {
   "cell_type": "code",
   "execution_count": 30,
   "id": "734f9fb3",
   "metadata": {},
   "outputs": [
    {
     "data": {
      "text/html": [
       "<div>\n",
       "<style scoped>\n",
       "    .dataframe tbody tr th:only-of-type {\n",
       "        vertical-align: middle;\n",
       "    }\n",
       "\n",
       "    .dataframe tbody tr th {\n",
       "        vertical-align: top;\n",
       "    }\n",
       "\n",
       "    .dataframe thead th {\n",
       "        text-align: right;\n",
       "    }\n",
       "</style>\n",
       "<table border=\"1\" class=\"dataframe\">\n",
       "  <thead>\n",
       "    <tr style=\"text-align: right;\">\n",
       "      <th></th>\n",
       "      <th>QUANTITY</th>\n",
       "    </tr>\n",
       "    <tr>\n",
       "      <th>household_key</th>\n",
       "      <th></th>\n",
       "    </tr>\n",
       "  </thead>\n",
       "  <tbody>\n",
       "    <tr>\n",
       "      <th>1023</th>\n",
       "      <td>4479917</td>\n",
       "    </tr>\n",
       "    <tr>\n",
       "      <th>755</th>\n",
       "      <td>3141769</td>\n",
       "    </tr>\n",
       "    <tr>\n",
       "      <th>1609</th>\n",
       "      <td>2146715</td>\n",
       "    </tr>\n",
       "    <tr>\n",
       "      <th>13</th>\n",
       "      <td>1863829</td>\n",
       "    </tr>\n",
       "    <tr>\n",
       "      <th>1430</th>\n",
       "      <td>1741892</td>\n",
       "    </tr>\n",
       "    <tr>\n",
       "      <th>1527</th>\n",
       "      <td>1734632</td>\n",
       "    </tr>\n",
       "    <tr>\n",
       "      <th>1762</th>\n",
       "      <td>1669880</td>\n",
       "    </tr>\n",
       "    <tr>\n",
       "      <th>707</th>\n",
       "      <td>1640193</td>\n",
       "    </tr>\n",
       "    <tr>\n",
       "      <th>1029</th>\n",
       "      <td>1496204</td>\n",
       "    </tr>\n",
       "    <tr>\n",
       "      <th>1314</th>\n",
       "      <td>1492863</td>\n",
       "    </tr>\n",
       "  </tbody>\n",
       "</table>\n",
       "</div>"
      ],
      "text/plain": [
       "               QUANTITY\n",
       "household_key          \n",
       "1023            4479917\n",
       "755             3141769\n",
       "1609            2146715\n",
       "13              1863829\n",
       "1430            1741892\n",
       "1527            1734632\n",
       "1762            1669880\n",
       "707             1640193\n",
       "1029            1496204\n",
       "1314            1492863"
      ]
     },
     "execution_count": 30,
     "metadata": {},
     "output_type": "execute_result"
    }
   ],
   "source": [
    "top10_quantity"
   ]
  },
  {
   "cell_type": "code",
   "execution_count": 32,
   "id": "476a5c3c",
   "metadata": {},
   "outputs": [
    {
     "data": {
      "text/plain": [
       "<AxesSubplot:xlabel='household_key'>"
      ]
     },
     "execution_count": 32,
     "metadata": {},
     "output_type": "execute_result"
    },
    {
     "data": {
      "image/png": "[encoded data removed]",
      "text/plain": [
       "<Figure size 432x288 with 1 Axes>"
      ]
     },
     "metadata": {
      "needs_background": "light"
     },
     "output_type": "display_data"
    }
   ],
   "source": [
    "top10_value[\"SALES_VALUE\"].sort_values(ascending = False).plot.bar()"
   ]
  },
  {
   "cell_type": "markdown",
   "id": "be62bdcf",
   "metadata": {},
   "source": [
    "### Product Analysis\n",
    "* Which product has most sakles by sales_value?\n",
    "* Did top selling items have a higher than average discount rate?\n",
    "* names of the top 10 selling products\n",
    "* What was the most common product_id among rows with households in top 10 households by sales value\n"
   ]
  },
  {
   "cell_type": "code",
   "execution_count": 34,
   "id": "c5995b30",
   "metadata": {},
   "outputs": [],
   "source": [
    "# Top 10 products by sales\n",
    "top10_products = (transactions.groupby([\"PRODUCT_ID\"])\n",
    "                .agg({\"SALES_VALUE\" : \"sum\"})\n",
    "                .sort_values(\"SALES_VALUE\", ascending = False)\n",
    "                .iloc[:10]\n",
    "                 )"
   ]
  },
  {
   "cell_type": "code",
   "execution_count": 35,
   "id": "92cb60ef",
   "metadata": {},
   "outputs": [
    {
     "data": {
      "text/html": [
       "<div>\n",
       "<style scoped>\n",
       "    .dataframe tbody tr th:only-of-type {\n",
       "        vertical-align: middle;\n",
       "    }\n",
       "\n",
       "    .dataframe tbody tr th {\n",
       "        vertical-align: top;\n",
       "    }\n",
       "\n",
       "    .dataframe thead th {\n",
       "        text-align: right;\n",
       "    }\n",
       "</style>\n",
       "<table border=\"1\" class=\"dataframe\">\n",
       "  <thead>\n",
       "    <tr style=\"text-align: right;\">\n",
       "      <th></th>\n",
       "      <th>SALES_VALUE</th>\n",
       "    </tr>\n",
       "    <tr>\n",
       "      <th>PRODUCT_ID</th>\n",
       "      <th></th>\n",
       "    </tr>\n",
       "  </thead>\n",
       "  <tbody>\n",
       "    <tr>\n",
       "      <th>6534178</th>\n",
       "      <td>420154.13</td>\n",
       "    </tr>\n",
       "    <tr>\n",
       "      <th>6533889</th>\n",
       "      <td>42339.31</td>\n",
       "    </tr>\n",
       "    <tr>\n",
       "      <th>1029743</th>\n",
       "      <td>33894.75</td>\n",
       "    </tr>\n",
       "    <tr>\n",
       "      <th>1082185</th>\n",
       "      <td>24149.79</td>\n",
       "    </tr>\n",
       "    <tr>\n",
       "      <th>6533765</th>\n",
       "      <td>23831.14</td>\n",
       "    </tr>\n",
       "    <tr>\n",
       "      <th>6534166</th>\n",
       "      <td>23755.70</td>\n",
       "    </tr>\n",
       "    <tr>\n",
       "      <th>1106523</th>\n",
       "      <td>22931.01</td>\n",
       "    </tr>\n",
       "    <tr>\n",
       "      <th>916122</th>\n",
       "      <td>22749.02</td>\n",
       "    </tr>\n",
       "    <tr>\n",
       "      <th>995242</th>\n",
       "      <td>21229.72</td>\n",
       "    </tr>\n",
       "    <tr>\n",
       "      <th>5569230</th>\n",
       "      <td>20051.95</td>\n",
       "    </tr>\n",
       "  </tbody>\n",
       "</table>\n",
       "</div>"
      ],
      "text/plain": [
       "            SALES_VALUE\n",
       "PRODUCT_ID             \n",
       "6534178       420154.13\n",
       "6533889        42339.31\n",
       "1029743        33894.75\n",
       "1082185        24149.79\n",
       "6533765        23831.14\n",
       "6534166        23755.70\n",
       "1106523        22931.01\n",
       "916122         22749.02\n",
       "995242         21229.72\n",
       "5569230        20051.95"
      ]
     },
     "execution_count": 35,
     "metadata": {},
     "output_type": "execute_result"
    }
   ],
   "source": [
    "top10_products"
   ]
  },
  {
   "cell_type": "code",
   "execution_count": 37,
   "id": "6d3795d9",
   "metadata": {},
   "outputs": [
    {
     "data": {
      "text/plain": [
       "<AxesSubplot:ylabel='PRODUCT_ID'>"
      ]
     },
     "execution_count": 37,
     "metadata": {},
     "output_type": "execute_result"
    },
    {
     "data": {
      "image/png": "[encoded data removed]",
      "text/plain": [
       "<Figure size 432x288 with 1 Axes>"
      ]
     },
     "metadata": {
      "needs_background": "light"
     },
     "output_type": "display_data"
    }
   ],
   "source": [
    "# Plot 10 products by sale values\n",
    "top10_products[\"SALES_VALUE\"].sort_values(ascending = False).plot.barh()"
   ]
  },
  {
   "cell_type": "code",
   "execution_count": 38,
   "id": "a7de02f1",
   "metadata": {},
   "outputs": [],
   "source": [
    "discount_rate = (transactions.query(\"PRODUCT_ID in @top10_products.index\").loc[:,\"total_discount\"].sum()\n",
    "                /transactions.query(\"PRODUCT_ID in @top10_products.index\").loc[:,\"SALES_VALUE\"].sum())"
   ]
  },
  {
   "cell_type": "code",
   "execution_count": 39,
   "id": "e59d22be",
   "metadata": {},
   "outputs": [
    {
     "data": {
      "text/plain": [
       "-0.10331267387397927"
      ]
     },
     "execution_count": 39,
     "metadata": {},
     "output_type": "execute_result"
    }
   ],
   "source": [
    "discount_rate"
   ]
  },
  {
   "cell_type": "code",
   "execution_count": 41,
   "id": "712a421c",
   "metadata": {},
   "outputs": [
    {
     "data": {
      "text/plain": [
       "0.20732444073964212"
      ]
     },
     "execution_count": 41,
     "metadata": {},
     "output_type": "execute_result"
    }
   ],
   "source": [
    "transactions.loc[:,\"percentage_discount\"].mean()"
   ]
  },
  {
   "cell_type": "code",
   "execution_count": 42,
   "id": "bc6880e4",
   "metadata": {},
   "outputs": [],
   "source": [
    "products = pd.read_csv(\"............/product.csv\")"
   ]
  },
  {
   "cell_type": "code",
   "execution_count": 44,
   "id": "0ab23943",
   "metadata": {},
   "outputs": [
    {
     "data": {
      "text/html": [
       "<div>\n",
       "<style scoped>\n",
       "    .dataframe tbody tr th:only-of-type {\n",
       "        vertical-align: middle;\n",
       "    }\n",
       "\n",
       "    .dataframe tbody tr th {\n",
       "        vertical-align: top;\n",
       "    }\n",
       "\n",
       "    .dataframe thead th {\n",
       "        text-align: right;\n",
       "    }\n",
       "</style>\n",
       "<table border=\"1\" class=\"dataframe\">\n",
       "  <thead>\n",
       "    <tr style=\"text-align: right;\">\n",
       "      <th></th>\n",
       "      <th>PRODUCT_ID</th>\n",
       "      <th>MANUFACTURER</th>\n",
       "      <th>DEPARTMENT</th>\n",
       "      <th>BRAND</th>\n",
       "      <th>COMMODITY_DESC</th>\n",
       "      <th>SUB_COMMODITY_DESC</th>\n",
       "      <th>CURR_SIZE_OF_PRODUCT</th>\n",
       "    </tr>\n",
       "  </thead>\n",
       "  <tbody>\n",
       "    <tr>\n",
       "      <th>0</th>\n",
       "      <td>25671</td>\n",
       "      <td>2</td>\n",
       "      <td>GROCERY</td>\n",
       "      <td>National</td>\n",
       "      <td>FRZN ICE</td>\n",
       "      <td>ICE - CRUSHED/CUBED</td>\n",
       "      <td>22 LB</td>\n",
       "    </tr>\n",
       "    <tr>\n",
       "      <th>1</th>\n",
       "      <td>26081</td>\n",
       "      <td>2</td>\n",
       "      <td>MISC. TRANS.</td>\n",
       "      <td>National</td>\n",
       "      <td>NO COMMODITY DESCRIPTION</td>\n",
       "      <td>NO SUBCOMMODITY DESCRIPTION</td>\n",
       "      <td></td>\n",
       "    </tr>\n",
       "    <tr>\n",
       "      <th>2</th>\n",
       "      <td>26093</td>\n",
       "      <td>69</td>\n",
       "      <td>PASTRY</td>\n",
       "      <td>Private</td>\n",
       "      <td>BREAD</td>\n",
       "      <td>BREAD:ITALIAN/FRENCH</td>\n",
       "      <td></td>\n",
       "    </tr>\n",
       "    <tr>\n",
       "      <th>3</th>\n",
       "      <td>26190</td>\n",
       "      <td>69</td>\n",
       "      <td>GROCERY</td>\n",
       "      <td>Private</td>\n",
       "      <td>FRUIT - SHELF STABLE</td>\n",
       "      <td>APPLE SAUCE</td>\n",
       "      <td>50 OZ</td>\n",
       "    </tr>\n",
       "    <tr>\n",
       "      <th>4</th>\n",
       "      <td>26355</td>\n",
       "      <td>69</td>\n",
       "      <td>GROCERY</td>\n",
       "      <td>Private</td>\n",
       "      <td>COOKIES/CONES</td>\n",
       "      <td>SPECIALTY COOKIES</td>\n",
       "      <td>14 OZ</td>\n",
       "    </tr>\n",
       "  </tbody>\n",
       "</table>\n",
       "</div>"
      ],
      "text/plain": [
       "   PRODUCT_ID  MANUFACTURER    DEPARTMENT     BRAND            COMMODITY_DESC  \\\n",
       "0       25671             2       GROCERY  National                  FRZN ICE   \n",
       "1       26081             2  MISC. TRANS.  National  NO COMMODITY DESCRIPTION   \n",
       "2       26093            69        PASTRY   Private                     BREAD   \n",
       "3       26190            69       GROCERY   Private      FRUIT - SHELF STABLE   \n",
       "4       26355            69       GROCERY   Private             COOKIES/CONES   \n",
       "\n",
       "            SUB_COMMODITY_DESC CURR_SIZE_OF_PRODUCT  \n",
       "0          ICE - CRUSHED/CUBED                22 LB  \n",
       "1  NO SUBCOMMODITY DESCRIPTION                       \n",
       "2         BREAD:ITALIAN/FRENCH                       \n",
       "3                  APPLE SAUCE                50 OZ  \n",
       "4            SPECIALTY COOKIES                14 OZ  "
      ]
     },
     "execution_count": 44,
     "metadata": {},
     "output_type": "execute_result"
    }
   ],
   "source": [
    "products.head()"
   ]
  },
  {
   "cell_type": "code",
   "execution_count": 47,
   "id": "4d604ede",
   "metadata": {},
   "outputs": [],
   "source": [
    "# Top 10 product in households\n",
    "top10_product_hh = (transactions.query(\"household_key in @top10_value.index\")\n",
    "                    .loc[:,\"PRODUCT_ID\"]\n",
    "                    .value_counts().iloc[:10].index\n",
    ")"
   ]
  },
  {
   "cell_type": "code",
   "execution_count": 48,
   "id": "4788184e",
   "metadata": {},
   "outputs": [
    {
     "data": {
      "text/plain": [
       "Int64Index([1082185, 1029743, 6534178, 6533889, 1127831,  951590,  860776,\n",
       "            1106523,  981760, 9677202],\n",
       "           dtype='int64')"
      ]
     },
     "execution_count": 48,
     "metadata": {},
     "output_type": "execute_result"
    }
   ],
   "source": [
    "top10_product_hh"
   ]
  },
  {
   "cell_type": "code",
   "execution_count": 49,
   "id": "a9a97d05",
   "metadata": {},
   "outputs": [
    {
     "data": {
      "text/plain": [
       "1082185     576\n",
       "1029743     573\n",
       "6534178     561\n",
       "6533889     418\n",
       "1127831     230\n",
       "           ... \n",
       "1086818       1\n",
       "1060912       1\n",
       "981797        1\n",
       "864988        1\n",
       "17937077      1\n",
       "Name: PRODUCT_ID, Length: 13878, dtype: int64"
      ]
     },
     "execution_count": 49,
     "metadata": {},
     "output_type": "execute_result"
    }
   ],
   "source": [
    "common_product_hh = (transactions.query(\"household_key in @top10_value.index\")\n",
    "                    .loc[:,\"PRODUCT_ID\"]\n",
    "                    .value_counts()\n",
    ")\n",
    "common_product_hh"
   ]
  },
  {
   "cell_type": "code",
   "execution_count": 51,
   "id": "33ae781f",
   "metadata": {},
   "outputs": [
    {
     "data": {
      "text/html": [
       "<div>\n",
       "<style scoped>\n",
       "    .dataframe tbody tr th:only-of-type {\n",
       "        vertical-align: middle;\n",
       "    }\n",
       "\n",
       "    .dataframe tbody tr th {\n",
       "        vertical-align: top;\n",
       "    }\n",
       "\n",
       "    .dataframe thead th {\n",
       "        text-align: right;\n",
       "    }\n",
       "</style>\n",
       "<table border=\"1\" class=\"dataframe\">\n",
       "  <thead>\n",
       "    <tr style=\"text-align: right;\">\n",
       "      <th></th>\n",
       "      <th>PRODUCT_ID</th>\n",
       "      <th>MANUFACTURER</th>\n",
       "      <th>DEPARTMENT</th>\n",
       "      <th>BRAND</th>\n",
       "      <th>COMMODITY_DESC</th>\n",
       "      <th>SUB_COMMODITY_DESC</th>\n",
       "      <th>CURR_SIZE_OF_PRODUCT</th>\n",
       "    </tr>\n",
       "  </thead>\n",
       "  <tbody>\n",
       "    <tr>\n",
       "      <th>10630</th>\n",
       "      <td>860776</td>\n",
       "      <td>2</td>\n",
       "      <td>PRODUCE</td>\n",
       "      <td>National</td>\n",
       "      <td>VEGETABLES - ALL OTHERS</td>\n",
       "      <td>CUCUMBERS</td>\n",
       "      <td>36 CT</td>\n",
       "    </tr>\n",
       "    <tr>\n",
       "      <th>20973</th>\n",
       "      <td>951590</td>\n",
       "      <td>910</td>\n",
       "      <td>GROCERY</td>\n",
       "      <td>National</td>\n",
       "      <td>BAKED BREAD/BUNS/ROLLS</td>\n",
       "      <td>MAINSTREAM WHITE BREAD</td>\n",
       "      <td>20 OZ</td>\n",
       "    </tr>\n",
       "    <tr>\n",
       "      <th>24250</th>\n",
       "      <td>981760</td>\n",
       "      <td>69</td>\n",
       "      <td>GROCERY</td>\n",
       "      <td>Private</td>\n",
       "      <td>EGGS</td>\n",
       "      <td>EGGS - X-LARGE</td>\n",
       "      <td>1 DZ</td>\n",
       "    </tr>\n",
       "    <tr>\n",
       "      <th>29657</th>\n",
       "      <td>1029743</td>\n",
       "      <td>69</td>\n",
       "      <td>GROCERY</td>\n",
       "      <td>Private</td>\n",
       "      <td>FLUID MILK PRODUCTS</td>\n",
       "      <td>FLUID MILK WHITE ONLY</td>\n",
       "      <td>1 GA</td>\n",
       "    </tr>\n",
       "    <tr>\n",
       "      <th>35576</th>\n",
       "      <td>1082185</td>\n",
       "      <td>2</td>\n",
       "      <td>PRODUCE</td>\n",
       "      <td>National</td>\n",
       "      <td>TROPICAL FRUIT</td>\n",
       "      <td>BANANAS</td>\n",
       "      <td>40 LB</td>\n",
       "    </tr>\n",
       "    <tr>\n",
       "      <th>38262</th>\n",
       "      <td>1106523</td>\n",
       "      <td>69</td>\n",
       "      <td>GROCERY</td>\n",
       "      <td>Private</td>\n",
       "      <td>FLUID MILK PRODUCTS</td>\n",
       "      <td>FLUID MILK WHITE ONLY</td>\n",
       "      <td>1 GA</td>\n",
       "    </tr>\n",
       "    <tr>\n",
       "      <th>40600</th>\n",
       "      <td>1127831</td>\n",
       "      <td>5937</td>\n",
       "      <td>PRODUCE</td>\n",
       "      <td>National</td>\n",
       "      <td>BERRIES</td>\n",
       "      <td>STRAWBERRIES</td>\n",
       "      <td>16 OZ</td>\n",
       "    </tr>\n",
       "    <tr>\n",
       "      <th>57181</th>\n",
       "      <td>6533889</td>\n",
       "      <td>69</td>\n",
       "      <td>MISC SALES TRAN</td>\n",
       "      <td>Private</td>\n",
       "      <td>COUPON/MISC ITEMS</td>\n",
       "      <td>GASOLINE-REG UNLEADED</td>\n",
       "      <td></td>\n",
       "    </tr>\n",
       "    <tr>\n",
       "      <th>57221</th>\n",
       "      <td>6534178</td>\n",
       "      <td>69</td>\n",
       "      <td>KIOSK-GAS</td>\n",
       "      <td>Private</td>\n",
       "      <td>COUPON/MISC ITEMS</td>\n",
       "      <td>GASOLINE-REG UNLEADED</td>\n",
       "      <td></td>\n",
       "    </tr>\n",
       "    <tr>\n",
       "      <th>68952</th>\n",
       "      <td>9677202</td>\n",
       "      <td>69</td>\n",
       "      <td>GROCERY</td>\n",
       "      <td>Private</td>\n",
       "      <td>PAPER TOWELS</td>\n",
       "      <td>PAPER TOWELS &amp; HOLDERS</td>\n",
       "      <td></td>\n",
       "    </tr>\n",
       "  </tbody>\n",
       "</table>\n",
       "</div>"
      ],
      "text/plain": [
       "       PRODUCT_ID  MANUFACTURER       DEPARTMENT     BRAND  \\\n",
       "10630      860776             2          PRODUCE  National   \n",
       "20973      951590           910          GROCERY  National   \n",
       "24250      981760            69          GROCERY   Private   \n",
       "29657     1029743            69          GROCERY   Private   \n",
       "35576     1082185             2          PRODUCE  National   \n",
       "38262     1106523            69          GROCERY   Private   \n",
       "40600     1127831          5937          PRODUCE  National   \n",
       "57181     6533889            69  MISC SALES TRAN   Private   \n",
       "57221     6534178            69        KIOSK-GAS   Private   \n",
       "68952     9677202            69          GROCERY   Private   \n",
       "\n",
       "                COMMODITY_DESC      SUB_COMMODITY_DESC CURR_SIZE_OF_PRODUCT  \n",
       "10630  VEGETABLES - ALL OTHERS               CUCUMBERS                36 CT  \n",
       "20973   BAKED BREAD/BUNS/ROLLS  MAINSTREAM WHITE BREAD                20 OZ  \n",
       "24250                     EGGS          EGGS - X-LARGE                 1 DZ  \n",
       "29657      FLUID MILK PRODUCTS   FLUID MILK WHITE ONLY                 1 GA  \n",
       "35576           TROPICAL FRUIT                 BANANAS                40 LB  \n",
       "38262      FLUID MILK PRODUCTS   FLUID MILK WHITE ONLY                 1 GA  \n",
       "40600                  BERRIES            STRAWBERRIES                16 OZ  \n",
       "57181        COUPON/MISC ITEMS   GASOLINE-REG UNLEADED                       \n",
       "57221        COUPON/MISC ITEMS   GASOLINE-REG UNLEADED                       \n",
       "68952             PAPER TOWELS  PAPER TOWELS & HOLDERS                       "
      ]
     },
     "execution_count": 51,
     "metadata": {},
     "output_type": "execute_result"
    }
   ],
   "source": [
    "products.query(\"PRODUCT_ID in @top10_product_hh\")"
   ]
  },
  {
   "cell_type": "code",
   "execution_count": 53,
   "id": "cfecdb37",
   "metadata": {},
   "outputs": [
    {
     "data": {
      "text/html": [
       "<div>\n",
       "<style scoped>\n",
       "    .dataframe tbody tr th:only-of-type {\n",
       "        vertical-align: middle;\n",
       "    }\n",
       "\n",
       "    .dataframe tbody tr th {\n",
       "        vertical-align: top;\n",
       "    }\n",
       "\n",
       "    .dataframe thead th {\n",
       "        text-align: right;\n",
       "    }\n",
       "</style>\n",
       "<table border=\"1\" class=\"dataframe\">\n",
       "  <thead>\n",
       "    <tr style=\"text-align: right;\">\n",
       "      <th></th>\n",
       "      <th>PRODUCT_ID</th>\n",
       "      <th>MANUFACTURER</th>\n",
       "      <th>DEPARTMENT</th>\n",
       "      <th>BRAND</th>\n",
       "      <th>COMMODITY_DESC</th>\n",
       "      <th>SUB_COMMODITY_DESC</th>\n",
       "      <th>CURR_SIZE_OF_PRODUCT</th>\n",
       "    </tr>\n",
       "  </thead>\n",
       "  <tbody>\n",
       "    <tr>\n",
       "      <th>16863</th>\n",
       "      <td>916122</td>\n",
       "      <td>4314</td>\n",
       "      <td>MEAT</td>\n",
       "      <td>National</td>\n",
       "      <td>CHICKEN</td>\n",
       "      <td>CHICKEN BREAST BONELESS</td>\n",
       "      <td></td>\n",
       "    </tr>\n",
       "    <tr>\n",
       "      <th>25754</th>\n",
       "      <td>995242</td>\n",
       "      <td>69</td>\n",
       "      <td>GROCERY</td>\n",
       "      <td>Private</td>\n",
       "      <td>FLUID MILK PRODUCTS</td>\n",
       "      <td>FLUID MILK WHITE ONLY</td>\n",
       "      <td></td>\n",
       "    </tr>\n",
       "    <tr>\n",
       "      <th>29657</th>\n",
       "      <td>1029743</td>\n",
       "      <td>69</td>\n",
       "      <td>GROCERY</td>\n",
       "      <td>Private</td>\n",
       "      <td>FLUID MILK PRODUCTS</td>\n",
       "      <td>FLUID MILK WHITE ONLY</td>\n",
       "      <td>1 GA</td>\n",
       "    </tr>\n",
       "    <tr>\n",
       "      <th>35576</th>\n",
       "      <td>1082185</td>\n",
       "      <td>2</td>\n",
       "      <td>PRODUCE</td>\n",
       "      <td>National</td>\n",
       "      <td>TROPICAL FRUIT</td>\n",
       "      <td>BANANAS</td>\n",
       "      <td>40 LB</td>\n",
       "    </tr>\n",
       "    <tr>\n",
       "      <th>38262</th>\n",
       "      <td>1106523</td>\n",
       "      <td>69</td>\n",
       "      <td>GROCERY</td>\n",
       "      <td>Private</td>\n",
       "      <td>FLUID MILK PRODUCTS</td>\n",
       "      <td>FLUID MILK WHITE ONLY</td>\n",
       "      <td>1 GA</td>\n",
       "    </tr>\n",
       "    <tr>\n",
       "      <th>53097</th>\n",
       "      <td>5569230</td>\n",
       "      <td>1208</td>\n",
       "      <td>GROCERY</td>\n",
       "      <td>National</td>\n",
       "      <td>SOFT DRINKS</td>\n",
       "      <td>SOFT DRINKS 12/18&amp;15PK CAN CAR</td>\n",
       "      <td>12 OZ</td>\n",
       "    </tr>\n",
       "    <tr>\n",
       "      <th>57171</th>\n",
       "      <td>6533765</td>\n",
       "      <td>69</td>\n",
       "      <td>KIOSK-GAS</td>\n",
       "      <td>Private</td>\n",
       "      <td>FUEL</td>\n",
       "      <td>GASOLINE-REG UNLEADED</td>\n",
       "      <td></td>\n",
       "    </tr>\n",
       "    <tr>\n",
       "      <th>57181</th>\n",
       "      <td>6533889</td>\n",
       "      <td>69</td>\n",
       "      <td>MISC SALES TRAN</td>\n",
       "      <td>Private</td>\n",
       "      <td>COUPON/MISC ITEMS</td>\n",
       "      <td>GASOLINE-REG UNLEADED</td>\n",
       "      <td></td>\n",
       "    </tr>\n",
       "    <tr>\n",
       "      <th>57216</th>\n",
       "      <td>6534166</td>\n",
       "      <td>69</td>\n",
       "      <td>MISC SALES TRAN</td>\n",
       "      <td>Private</td>\n",
       "      <td>COUPON/MISC ITEMS</td>\n",
       "      <td>GASOLINE-REG UNLEADED</td>\n",
       "      <td></td>\n",
       "    </tr>\n",
       "    <tr>\n",
       "      <th>57221</th>\n",
       "      <td>6534178</td>\n",
       "      <td>69</td>\n",
       "      <td>KIOSK-GAS</td>\n",
       "      <td>Private</td>\n",
       "      <td>COUPON/MISC ITEMS</td>\n",
       "      <td>GASOLINE-REG UNLEADED</td>\n",
       "      <td></td>\n",
       "    </tr>\n",
       "  </tbody>\n",
       "</table>\n",
       "</div>"
      ],
      "text/plain": [
       "       PRODUCT_ID  MANUFACTURER       DEPARTMENT     BRAND  \\\n",
       "16863      916122          4314             MEAT  National   \n",
       "25754      995242            69          GROCERY   Private   \n",
       "29657     1029743            69          GROCERY   Private   \n",
       "35576     1082185             2          PRODUCE  National   \n",
       "38262     1106523            69          GROCERY   Private   \n",
       "53097     5569230          1208          GROCERY  National   \n",
       "57171     6533765            69        KIOSK-GAS   Private   \n",
       "57181     6533889            69  MISC SALES TRAN   Private   \n",
       "57216     6534166            69  MISC SALES TRAN   Private   \n",
       "57221     6534178            69        KIOSK-GAS   Private   \n",
       "\n",
       "            COMMODITY_DESC              SUB_COMMODITY_DESC  \\\n",
       "16863              CHICKEN         CHICKEN BREAST BONELESS   \n",
       "25754  FLUID MILK PRODUCTS           FLUID MILK WHITE ONLY   \n",
       "29657  FLUID MILK PRODUCTS           FLUID MILK WHITE ONLY   \n",
       "35576       TROPICAL FRUIT                         BANANAS   \n",
       "38262  FLUID MILK PRODUCTS           FLUID MILK WHITE ONLY   \n",
       "53097          SOFT DRINKS  SOFT DRINKS 12/18&15PK CAN CAR   \n",
       "57171                 FUEL           GASOLINE-REG UNLEADED   \n",
       "57181    COUPON/MISC ITEMS           GASOLINE-REG UNLEADED   \n",
       "57216    COUPON/MISC ITEMS           GASOLINE-REG UNLEADED   \n",
       "57221    COUPON/MISC ITEMS           GASOLINE-REG UNLEADED   \n",
       "\n",
       "      CURR_SIZE_OF_PRODUCT  \n",
       "16863                       \n",
       "25754                       \n",
       "29657                 1 GA  \n",
       "35576                40 LB  \n",
       "38262                 1 GA  \n",
       "53097                12 OZ  \n",
       "57171                       \n",
       "57181                       \n",
       "57216                       \n",
       "57221                       "
      ]
     },
     "execution_count": 53,
     "metadata": {},
     "output_type": "execute_result"
    }
   ],
   "source": [
    "# Top 10 product name\n",
    "products.query(\"PRODUCT_ID in @top10_products.index\")"
   ]
  }
 ],
 "metadata": {
  "kernelspec": {
   "display_name": "Python 3 (ipykernel)",
   "language": "python",
   "name": "python3"
  },
  "language_info": {
   "codemirror_mode": {
    "name": "ipython",
    "version": 3
   },
   "file_extension": ".py",
   "mimetype": "text/x-python",
   "name": "python",
   "nbconvert_exporter": "python",
   "pygments_lexer": "ipython3",
   "version": "3.9.12"
  }
 },
 "nbformat": 4,
 "nbformat_minor": 5
}
